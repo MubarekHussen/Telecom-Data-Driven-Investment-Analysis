{
 "cells": [
  {
   "cell_type": "code",
   "execution_count": 6,
   "metadata": {},
   "outputs": [],
   "source": [
    "import pandas as pd\n",
    "import sys, os\n",
    "\n",
    "rpath = os.path.abspath('..')\n",
    "if rpath not in sys.path:\n",
    "    sys.path.insert(0, rpath)\n",
    "\n",
    "from utils import DatabaseEngine"
   ]
  },
  {
   "cell_type": "code",
   "execution_count": 7,
   "metadata": {},
   "outputs": [
    {
     "name": "stdout",
     "output_type": "stream",
     "text": [
      "Successfully connected to the PostgreSQL \"telecom\" database\n"
     ]
    }
   ],
   "source": [
    "db_engine = DatabaseEngine()\n",
    "engine = db_engine.create()\n",
    "clean_df = pd.read_sql_table(\"clean_xdr_data\", con=engine)"
   ]
  },
  {
   "cell_type": "markdown",
   "metadata": {},
   "source": [
    "#### Aggregate overview of the users’ behaviour"
   ]
  },
  {
   "cell_type": "code",
   "execution_count": 13,
   "metadata": {},
   "outputs": [],
   "source": [
    "def process_user_info(clean_df):\n",
    "    # number of xDR sessions\n",
    "    num_sessions = clean_df.groupby('MSISDN/Number')['Bearer Id'].count()\n",
    "\n",
    "    # Session duration\n",
    "    session_duration = clean_df.groupby('MSISDN/Number')['Dur. (ms)'].sum()\n",
    "\n",
    "    # the total download (DL) and upload (UL) data\n",
    "    total_DL = clean_df.groupby('MSISDN/Number')['Total DL (Bytes)'].sum()\n",
    "    total_UL = clean_df.groupby('MSISDN/Number')['Total UL (Bytes)'].sum()\n",
    "\n",
    "    # the total data volume (in Bytes) during this session for each application\n",
    "    total_data_vol = clean_df.groupby('MSISDN/Number')[['Social Media DL (Bytes)', 'Social Media UL (Bytes)',\n",
    "                                                   'Google DL (Bytes)', 'Google UL (Bytes)',\n",
    "                                                   'Email DL (Bytes)', 'Email UL (Bytes)',\n",
    "                                                   'Youtube DL (Bytes)', 'Youtube UL (Bytes)',\n",
    "                                                   'Netflix DL (Bytes)', 'Netflix UL (Bytes)',\n",
    "                                                   'Gaming DL (Bytes)', 'Gaming UL (Bytes)',\n",
    "                                                   'Other DL (Bytes)', 'Other UL (Bytes)']].sum()\n",
    "    user_info = pd.concat([num_sessions, session_duration, total_DL, total_UL, total_data_vol], axis=1)\n",
    "    user_info = user_info.rename(columns={\n",
    "        'Bearer Id': 'Number of Sessions',\n",
    "        'Dur. (ms)': 'Total Session Duration',\n",
    "        'Total DL (Bytes)': 'Total Download Data',\n",
    "        'Total UL (Bytes)': 'Total Upload Data',\n",
    "        'Social Media DL (Bytes)': 'Social Media Download Data',\n",
    "        'Social Media UL (Bytes)': 'Social Media Upload Data',\n",
    "        'Google DL (Bytes)': 'Google Download Data',\n",
    "        'Google UL (Bytes)': 'Google Upload Data',\n",
    "        'Email DL (Bytes)': 'Email Download Data',\n",
    "        'Email UL (Bytes)': 'Email Upload Data',\n",
    "        'Youtube DL (Bytes)': 'Youtube Download Data',\n",
    "        'Youtube UL (Bytes)': 'Youtube Upload Data',\n",
    "        'Netflix DL (Bytes)': 'Netflix Download Data',\n",
    "        'Netflix UL (Bytes)': 'Netflix Upload Data',\n",
    "        'Gaming DL (Bytes)': 'Gaming Download Data',\n",
    "        'Gaming UL (Bytes)': 'Gaming Upload Data',\n",
    "        'Other DL (Bytes)': 'Other Download Data',\n",
    "        'Other UL (Bytes)': 'Other Upload Data'\n",
    "    })\n",
    "    \n",
    "    return user_info\n",
    "\n",
    "filtered_df = clean_df[clean_df['MSISDN/Number'] != 'Unknown']\n",
    "user_info = process_user_info(filtered_df)\n",
    "pd.DataFrame(user_info)\n",
    "\n",
    "# Save DataFrame to CSV\n",
    "# user_info.to_csv('user_info.csv')"
   ]
  }
 ],
 "metadata": {
  "kernelspec": {
   "display_name": "base",
   "language": "python",
   "name": "python3"
  },
  "language_info": {
   "codemirror_mode": {
    "name": "ipython",
    "version": 3
   },
   "file_extension": ".py",
   "mimetype": "text/x-python",
   "name": "python",
   "nbconvert_exporter": "python",
   "pygments_lexer": "ipython3",
   "version": "3.10.12"
  }
 },
 "nbformat": 4,
 "nbformat_minor": 2
}
