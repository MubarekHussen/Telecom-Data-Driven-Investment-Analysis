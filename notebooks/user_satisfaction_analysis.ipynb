{
 "cells": [
  {
   "cell_type": "code",
   "execution_count": 262,
   "metadata": {},
   "outputs": [],
   "source": [
    "import pandas as pd\n",
    "import sys, os\n",
    "import matplotlib.pyplot as plt\n",
    "import seaborn as sns\n",
    "from sklearn.metrics.pairwise import euclidean_distances\n",
    "from sklearn.model_selection import train_test_split\n",
    "from sklearn.linear_model import LinearRegression\n",
    "from sklearn.metrics import mean_squared_error\n",
    "from scipy.stats.mstats import winsorize\n",
    "\n",
    "\n",
    "rpath = os.path.abspath('..')\n",
    "if rpath not in sys.path:\n",
    "    sys.path.insert(0, rpath)\n",
    "\n",
    "from utils import DatabaseEngine\n",
    "from sklearn.preprocessing import StandardScaler\n",
    "from sklearn.cluster import KMeans\n",
    "from sklearn.metrics import silhouette_score\n",
    "from mpl_toolkits.mplot3d import Axes3D\n",
    "from scipy.spatial import distance\n"
   ]
  },
  {
   "cell_type": "code",
   "execution_count": 263,
   "metadata": {},
   "outputs": [],
   "source": [
    "import warnings\n",
    "\n",
    "# Ignore numpy partition warnings\n",
    "warnings.filterwarnings('ignore', message=\"Warning: 'partition' will ignore the 'mask' of the MaskedArray.\")"
   ]
  },
  {
   "cell_type": "markdown",
   "metadata": {},
   "source": [
    "### User Satisfaction Analysis"
   ]
  },
  {
   "cell_type": "code",
   "execution_count": 264,
   "metadata": {},
   "outputs": [
    {
     "name": "stdout",
     "output_type": "stream",
     "text": [
      "Successfully connected to the PostgreSQL \"telecom\" database\n"
     ]
    }
   ],
   "source": [
    "db_engine = DatabaseEngine()\n",
    "engine = db_engine.create()\n",
    "clean_df = pd.read_sql_table(\"clean_xdr_data\", con=engine)"
   ]
  },
  {
   "cell_type": "code",
   "execution_count": 265,
   "metadata": {},
   "outputs": [],
   "source": [
    "data_df = pd.read_csv('../data/user_info.csv')"
   ]
  },
  {
   "cell_type": "code",
   "execution_count": 266,
   "metadata": {},
   "outputs": [],
   "source": [
    "df = pd.concat([clean_df, data_df], axis=1)"
   ]
  },
  {
   "cell_type": "code",
   "execution_count": 267,
   "metadata": {},
   "outputs": [],
   "source": [
    "df['Total Traffic'] = df['Total Download Data'] + df['Total Upload Data']\n",
    "engagement_metrics = ['Number of Sessions', 'Total Session Duration', 'Total Traffic']"
   ]
  },
  {
   "cell_type": "code",
   "execution_count": 268,
   "metadata": {},
   "outputs": [],
   "source": [
    "# Function to handle outliers\n",
    "def replace_with_mean(df, column):\n",
    "    mean = df[column].mean()\n",
    "    std = df[column].std()\n",
    "    is_outlier = (df[column] - mean).abs() > 3*std\n",
    "    df.loc[is_outlier, column] = mean\n",
    "    return df"
   ]
  },
  {
   "cell_type": "markdown",
   "metadata": {},
   "source": [
    "##### User Engagement Score"
   ]
  },
  {
   "cell_type": "code",
   "execution_count": 270,
   "metadata": {},
   "outputs": [],
   "source": [
    "data_df['Total Traffic'] = data_df['Total Download Data'] + data_df['Total Upload Data']\n",
    "\n",
    "engagement_metrics = ['Number of Sessions', 'Total Session Duration', 'Total Traffic']\n",
    "for metric in engagement_metrics:\n",
    "    data_df = replace_with_mean(data_df, metric)\n",
    "\n",
    "scaler = StandardScaler()\n",
    "normalized_data = scaler.fit_transform(data_df[engagement_metrics])\n",
    "\n",
    "kmeans = KMeans(n_clusters=3, n_init=10, random_state=0)\n",
    "clusters = kmeans.fit_predict(normalized_data)\n",
    "\n",
    "data_df['Engagement Cluster'] = clusters"
   ]
  },
  {
   "cell_type": "code",
   "execution_count": 271,
   "metadata": {},
   "outputs": [],
   "source": [
    "avg_engagement = data_df.groupby('Engagement Cluster')[engagement_metrics].mean()\n",
    "\n",
    "less_engaged_cluster = avg_engagement.mean(axis=1).idxmin()\n",
    "\n",
    "centroid = kmeans.cluster_centers_[less_engaged_cluster]\n",
    "\n",
    "data_df['Engagement Score'] = euclidean_distances(normalized_data, centroid.reshape(1, -1)).flatten()"
   ]
  },
  {
   "cell_type": "code",
   "execution_count": 272,
   "metadata": {},
   "outputs": [
    {
     "data": {
      "text/plain": [
       "count    106856.000000\n",
       "mean          1.420906\n",
       "std           1.243147\n",
       "min           0.014325\n",
       "25%           0.636431\n",
       "50%           0.935898\n",
       "75%           2.033866\n",
       "max           7.939218\n",
       "Name: Engagement Score, dtype: float64"
      ]
     },
     "execution_count": 272,
     "metadata": {},
     "output_type": "execute_result"
    }
   ],
   "source": [
    "data_df['Engagement Score'].describe()"
   ]
  },
  {
   "cell_type": "markdown",
   "metadata": {},
   "source": [
    "##### User Experience Score"
   ]
  },
  {
   "cell_type": "code",
   "execution_count": 273,
   "metadata": {},
   "outputs": [],
   "source": [
    "clean_df['Total TCP'] = clean_df['TCP UL Retrans. Vol (Bytes)'] + clean_df['TCP DL Retrans. Vol (Bytes)']\n",
    "clean_df['Total RTT'] = clean_df['Avg RTT DL (ms)'] + clean_df['Avg RTT UL (ms)']\n",
    "clean_df['Total Throughput'] = clean_df['Avg Bearer TP DL (kbps)'] + clean_df['Avg Bearer TP UL (kbps)']\n",
    "\n",
    "exp_engagement_metrics = ['Total TCP', 'Total RTT', 'Total Throughput']\n",
    "for metric in exp_engagement_metrics:\n",
    "    clean_df = replace_with_mean(clean_df, metric)\n",
    "\n",
    "scaler = StandardScaler()\n",
    "normalized_data = scaler.fit_transform(clean_df[exp_engagement_metrics])\n",
    "\n",
    "kmeans = KMeans(n_clusters=3, n_init=10, random_state=0)\n",
    "exp_clusters = kmeans.fit_predict(normalized_data)\n",
    "\n",
    "clean_df['Experiance Cluster'] = exp_clusters"
   ]
  },
  {
   "cell_type": "code",
   "execution_count": 274,
   "metadata": {},
   "outputs": [],
   "source": [
    "exp_avg_engagement = clean_df.groupby('Experiance Cluster')[exp_engagement_metrics].mean()\n",
    "\n",
    "exp_less_engaged_cluster = exp_avg_engagement.mean(axis=1).idxmin()\n",
    "\n",
    "exp_centroid = kmeans.cluster_centers_[exp_less_engaged_cluster]\n",
    "\n",
    "clean_df['Experiance Score'] = euclidean_distances(normalized_data, centroid.reshape(1, -1)).flatten()"
   ]
  },
  {
   "cell_type": "code",
   "execution_count": 275,
   "metadata": {},
   "outputs": [
    {
     "data": {
      "text/plain": [
       "count    150000.000000\n",
       "mean          1.365663\n",
       "std           1.303590\n",
       "min           0.036061\n",
       "25%           0.888435\n",
       "50%           0.928010\n",
       "75%           1.256111\n",
       "max          21.042770\n",
       "Name: Experiance Score, dtype: float64"
      ]
     },
     "execution_count": 275,
     "metadata": {},
     "output_type": "execute_result"
    }
   ],
   "source": [
    "clean_df['Experiance Score'].describe()"
   ]
  },
  {
   "cell_type": "code",
   "execution_count": 276,
   "metadata": {},
   "outputs": [],
   "source": [
    "data_df['MSISDN/Number'] = data_df['MSISDN/Number'].astype(str)\n",
    "clean_df['MSISDN/Number'] = clean_df['MSISDN/Number'].astype(str)\n",
    "\n",
    "merged_df = pd.merge(data_df, clean_df, on='MSISDN/Number')\n",
    "\n",
    "merged_df['Satisfaction Score'] = (merged_df['Experiance Score'] + merged_df['Engagement Score']) / 2\n",
    "\n",
    "top_10_satisfied_users = merged_df.sort_values('Satisfaction Score', ascending=False).head(10)"
   ]
  },
  {
   "cell_type": "code",
   "execution_count": 277,
   "metadata": {},
   "outputs": [
    {
     "data": {
      "text/plain": [
       "count    148935.000000\n",
       "mean          1.658673\n",
       "std           1.013450\n",
       "min           0.133537\n",
       "25%           0.879736\n",
       "50%           1.449997\n",
       "75%           2.170631\n",
       "max          13.085117\n",
       "Name: Satisfaction Score, dtype: float64"
      ]
     },
     "execution_count": 277,
     "metadata": {},
     "output_type": "execute_result"
    }
   ],
   "source": [
    "merged_df['Satisfaction Score'].describe()"
   ]
  },
  {
   "cell_type": "code",
   "execution_count": 279,
   "metadata": {},
   "outputs": [
    {
     "name": "stdout",
     "output_type": "stream",
     "text": [
      "MSISDN/Number  Satisfaction Score\n",
      "33761630594.0           13.085117\n",
      "33658835336.0           12.465686\n",
      "33659964803.0           12.378019\n",
      "33762171255.0           12.300601\n",
      "33667756811.0           12.207989\n",
      "33662157554.0           11.898364\n",
      "33669105695.0           11.867205\n",
      "33660845913.0           11.775199\n",
      "33699438997.0           11.760917\n",
      "33664016610.0           11.626983\n"
     ]
    }
   ],
   "source": [
    "top_10_satisfied_customers = merged_df.sort_values('Satisfaction Score', ascending=False).head(10)\n",
    "\n",
    "top_10_satisfied_customers = top_10_satisfied_customers[['MSISDN/Number', 'Satisfaction Score']]\n",
    "\n",
    "print(top_10_satisfied_customers.to_string(index=False))"
   ]
  },
  {
   "cell_type": "code",
   "execution_count": 280,
   "metadata": {},
   "outputs": [
    {
     "name": "stdout",
     "output_type": "stream",
     "text": [
      "Satisfaction Category\n",
      "moderate satisfaction    74467\n",
      "low satisfaction         37234\n",
      "high satisfaction        37234\n",
      "Name: count, dtype: int64\n"
     ]
    }
   ],
   "source": [
    "percentiles = merged_df['Satisfaction Score'].describe(percentiles=[0.25, 0.75])\n",
    "\n",
    "# Define the bins based on percentiles\n",
    "bins = [percentiles['min'], percentiles['25%'], percentiles['75%'], percentiles['max']]\n",
    "\n",
    "# Define the labels for each category\n",
    "labels = ['low satisfaction', 'moderate satisfaction', 'high satisfaction']\n",
    "\n",
    "# Use pd.cut to categorize the satisfaction scores\n",
    "merged_df['Satisfaction Category'] = pd.cut(merged_df['Satisfaction Score'], bins=bins, labels=labels, include_lowest=True)\n",
    "\n",
    "# Display the counts in each category\n",
    "category_counts = merged_df['Satisfaction Category'].value_counts()\n",
    "print(category_counts)"
   ]
  },
  {
   "cell_type": "code",
   "execution_count": 281,
   "metadata": {},
   "outputs": [
    {
     "data": {
      "image/png": "[encoded data removed]",
      "text/plain": [
       "<Figure size 1000x600 with 1 Axes>"
      ]
     },
     "metadata": {},
     "output_type": "display_data"
    }
   ],
   "source": [
    "category_percentages = category_counts / category_counts.sum() * 100\n",
    "\n",
    "plt.figure(figsize=(10, 6))\n",
    "plt.pie(category_percentages, labels=category_percentages.index, autopct='%1.1f%%', startangle=140)\n",
    "plt.axis('equal')\n",
    "plt.title('Satisfaction Score Categories')\n",
    "plt.show()"
   ]
  },
  {
   "cell_type": "markdown",
   "metadata": {},
   "source": [
    "##### Regression Model"
   ]
  },
  {
   "cell_type": "code",
   "execution_count": 282,
   "metadata": {},
   "outputs": [],
   "source": [
    "X = merged_df[['Engagement Score', 'Experiance Score']]\n",
    "y = merged_df['Satisfaction Score']\n",
    "\n",
    "# Split the data into training and testing sets\n",
    "X_train, X_test, y_train, y_test = train_test_split(X, y, test_size=0.2, random_state=42)\n",
    "\n",
    "# Create a linear regression model\n",
    "model = LinearRegression()\n",
    "\n",
    "# Train the model\n",
    "model.fit(X_train, y_train)\n",
    "\n",
    "# Make predictions on the test set\n",
    "y_pred = model.predict(X_test)"
   ]
  },
  {
   "cell_type": "markdown",
   "metadata": {},
   "source": [
    "###### Testing the Model"
   ]
  },
  {
   "cell_type": "code",
   "execution_count": 283,
   "metadata": {},
   "outputs": [
    {
     "name": "stdout",
     "output_type": "stream",
     "text": [
      "The predicted satisfaction score for the new customer is: 1.35\n"
     ]
    }
   ],
   "source": [
    "# Define new data\n",
    "new_data = {'Engagement Score': [1.5], 'Experiance Score': [1.2]}\n",
    "new_df = pd.DataFrame(new_data)\n",
    "\n",
    "# Use the model to make a prediction\n",
    "new_pred = model.predict(new_df)\n",
    "\n",
    "print(f'The predicted satisfaction score for the new customer is: {new_pred[0]}')"
   ]
  },
  {
   "cell_type": "markdown",
   "metadata": {},
   "source": [
    "##### k means clustering, K = 2"
   ]
  },
  {
   "cell_type": "code",
   "execution_count": 284,
   "metadata": {},
   "outputs": [],
   "source": [
    "X = merged_df[['Engagement Score', 'Experiance Score']]\n",
    "kmeans = KMeans(n_clusters=2, n_init=10, random_state=42)\n",
    "kmeans.fit(X)\n",
    "merged_df['Cluster'] = kmeans.labels_"
   ]
  },
  {
   "cell_type": "code",
   "execution_count": 286,
   "metadata": {},
   "outputs": [
    {
     "name": "stdout",
     "output_type": "stream",
     "text": [
      "         Satisfaction Score  Experiance Score\n",
      "Cluster                                      \n",
      "0                  1.162691          1.306654\n",
      "1                  2.602158          1.474389\n"
     ]
    }
   ],
   "source": [
    "average_scores = merged_df.groupby('Cluster')[['Satisfaction Score', 'Experiance Score']].mean()\n",
    "\n",
    "print(average_scores)"
   ]
  },
  {
   "cell_type": "markdown",
   "metadata": {},
   "source": [
    "##### Exporting the Data to a Database"
   ]
  },
  {
   "cell_type": "code",
   "execution_count": 288,
   "metadata": {},
   "outputs": [
    {
     "data": {
      "text/plain": [
       "337"
      ]
     },
     "execution_count": 288,
     "metadata": {},
     "output_type": "execute_result"
    }
   ],
   "source": [
    "merged_df.to_sql('user_satisfaction', engine, if_exists='replace', index=False)"
   ]
  },
  {
   "cell_type": "code",
   "execution_count": 292,
   "metadata": {},
   "outputs": [
    {
     "data": {
      "text/html": [
       "<div>\n",
       "<style scoped>\n",
       "    .dataframe tbody tr th:only-of-type {\n",
       "        vertical-align: middle;\n",
       "    }\n",
       "\n",
       "    .dataframe tbody tr th {\n",
       "        vertical-align: top;\n",
       "    }\n",
       "\n",
       "    .dataframe thead th {\n",
       "        text-align: right;\n",
       "    }\n",
       "</style>\n",
       "<table border=\"1\" class=\"dataframe\">\n",
       "  <thead>\n",
       "    <tr style=\"text-align: right;\">\n",
       "      <th></th>\n",
       "      <th>MSISDN/Number</th>\n",
       "      <th>Number of Sessions</th>\n",
       "      <th>Total Session Duration</th>\n",
       "      <th>Total Download Data</th>\n",
       "      <th>Total Upload Data</th>\n",
       "      <th>Social Media Download Data</th>\n",
       "      <th>Social Media Upload Data</th>\n",
       "      <th>Google Download Data</th>\n",
       "      <th>Google Upload Data</th>\n",
       "      <th>Email Download Data</th>\n",
       "      <th>...</th>\n",
       "      <th>Total UL (Bytes)</th>\n",
       "      <th>Total DL (Bytes)</th>\n",
       "      <th>Total TCP</th>\n",
       "      <th>Total RTT</th>\n",
       "      <th>Total Throughput</th>\n",
       "      <th>Experiance Cluster</th>\n",
       "      <th>Experiance Score</th>\n",
       "      <th>Satisfaction Score</th>\n",
       "      <th>Satisfaction Category</th>\n",
       "      <th>Cluster</th>\n",
       "    </tr>\n",
       "  </thead>\n",
       "  <tbody>\n",
       "    <tr>\n",
       "      <th>0</th>\n",
       "      <td>3197020876596.0</td>\n",
       "      <td>1.0</td>\n",
       "      <td>146167.156323</td>\n",
       "      <td>194828056.0</td>\n",
       "      <td>37295915.0</td>\n",
       "      <td>668596.0</td>\n",
       "      <td>46628.0</td>\n",
       "      <td>8572779.0</td>\n",
       "      <td>1865881.0</td>\n",
       "      <td>842279.0</td>\n",
       "      <td>...</td>\n",
       "      <td>37295915.0</td>\n",
       "      <td>194828056.0</td>\n",
       "      <td>2.156957e+07</td>\n",
       "      <td>127.458589</td>\n",
       "      <td>1.0</td>\n",
       "      <td>1</td>\n",
       "      <td>1.025659</td>\n",
       "      <td>0.914950</td>\n",
       "      <td>moderate satisfaction</td>\n",
       "      <td>0</td>\n",
       "    </tr>\n",
       "    <tr>\n",
       "      <th>1</th>\n",
       "      <td>33601001722.0</td>\n",
       "      <td>1.0</td>\n",
       "      <td>116720.000000</td>\n",
       "      <td>842637466.0</td>\n",
       "      <td>36053108.0</td>\n",
       "      <td>2206504.0</td>\n",
       "      <td>25631.0</td>\n",
       "      <td>3337123.0</td>\n",
       "      <td>1051882.0</td>\n",
       "      <td>837400.0</td>\n",
       "      <td>...</td>\n",
       "      <td>36053108.0</td>\n",
       "      <td>842637466.0</td>\n",
       "      <td>2.156957e+07</td>\n",
       "      <td>46.000000</td>\n",
       "      <td>76.0</td>\n",
       "      <td>1</td>\n",
       "      <td>0.885856</td>\n",
       "      <td>0.934504</td>\n",
       "      <td>moderate satisfaction</td>\n",
       "      <td>0</td>\n",
       "    </tr>\n",
       "    <tr>\n",
       "      <th>2</th>\n",
       "      <td>33601001754.0</td>\n",
       "      <td>1.0</td>\n",
       "      <td>181230.000000</td>\n",
       "      <td>120755184.0</td>\n",
       "      <td>36104459.0</td>\n",
       "      <td>2598548.0</td>\n",
       "      <td>62017.0</td>\n",
       "      <td>4197697.0</td>\n",
       "      <td>1137166.0</td>\n",
       "      <td>2828821.0</td>\n",
       "      <td>...</td>\n",
       "      <td>36104459.0</td>\n",
       "      <td>120755184.0</td>\n",
       "      <td>2.156957e+07</td>\n",
       "      <td>31.000000</td>\n",
       "      <td>99.0</td>\n",
       "      <td>1</td>\n",
       "      <td>0.901403</td>\n",
       "      <td>1.031410</td>\n",
       "      <td>moderate satisfaction</td>\n",
       "      <td>0</td>\n",
       "    </tr>\n",
       "    <tr>\n",
       "      <th>3</th>\n",
       "      <td>33601002511.0</td>\n",
       "      <td>1.0</td>\n",
       "      <td>134969.000000</td>\n",
       "      <td>556659663.0</td>\n",
       "      <td>39306820.0</td>\n",
       "      <td>3148004.0</td>\n",
       "      <td>47619.0</td>\n",
       "      <td>3343483.0</td>\n",
       "      <td>99643.0</td>\n",
       "      <td>2436500.0</td>\n",
       "      <td>...</td>\n",
       "      <td>39306820.0</td>\n",
       "      <td>556659663.0</td>\n",
       "      <td>2.156957e+07</td>\n",
       "      <td>127.458589</td>\n",
       "      <td>97.0</td>\n",
       "      <td>1</td>\n",
       "      <td>1.024765</td>\n",
       "      <td>0.722675</td>\n",
       "      <td>low satisfaction</td>\n",
       "      <td>0</td>\n",
       "    </tr>\n",
       "    <tr>\n",
       "      <th>4</th>\n",
       "      <td>33601007832.0</td>\n",
       "      <td>1.0</td>\n",
       "      <td>49878.000000</td>\n",
       "      <td>401993172.0</td>\n",
       "      <td>20327526.0</td>\n",
       "      <td>251469.0</td>\n",
       "      <td>28825.0</td>\n",
       "      <td>5937765.0</td>\n",
       "      <td>3740728.0</td>\n",
       "      <td>2178618.0</td>\n",
       "      <td>...</td>\n",
       "      <td>20327526.0</td>\n",
       "      <td>401993172.0</td>\n",
       "      <td>7.607247e+05</td>\n",
       "      <td>84.000000</td>\n",
       "      <td>248.0</td>\n",
       "      <td>1</td>\n",
       "      <td>0.412206</td>\n",
       "      <td>0.462616</td>\n",
       "      <td>low satisfaction</td>\n",
       "      <td>0</td>\n",
       "    </tr>\n",
       "  </tbody>\n",
       "</table>\n",
       "<p>5 rows × 84 columns</p>\n",
       "</div>"
      ],
      "text/plain": [
       "     MSISDN/Number  Number of Sessions  Total Session Duration  \\\n",
       "0  3197020876596.0                 1.0           146167.156323   \n",
       "1    33601001722.0                 1.0           116720.000000   \n",
       "2    33601001754.0                 1.0           181230.000000   \n",
       "3    33601002511.0                 1.0           134969.000000   \n",
       "4    33601007832.0                 1.0            49878.000000   \n",
       "\n",
       "   Total Download Data  Total Upload Data  Social Media Download Data  \\\n",
       "0          194828056.0         37295915.0                    668596.0   \n",
       "1          842637466.0         36053108.0                   2206504.0   \n",
       "2          120755184.0         36104459.0                   2598548.0   \n",
       "3          556659663.0         39306820.0                   3148004.0   \n",
       "4          401993172.0         20327526.0                    251469.0   \n",
       "\n",
       "   Social Media Upload Data  Google Download Data  Google Upload Data  \\\n",
       "0                   46628.0             8572779.0           1865881.0   \n",
       "1                   25631.0             3337123.0           1051882.0   \n",
       "2                   62017.0             4197697.0           1137166.0   \n",
       "3                   47619.0             3343483.0             99643.0   \n",
       "4                   28825.0             5937765.0           3740728.0   \n",
       "\n",
       "   Email Download Data  ...  Total UL (Bytes)  Total DL (Bytes)     Total TCP  \\\n",
       "0             842279.0  ...        37295915.0       194828056.0  2.156957e+07   \n",
       "1             837400.0  ...        36053108.0       842637466.0  2.156957e+07   \n",
       "2            2828821.0  ...        36104459.0       120755184.0  2.156957e+07   \n",
       "3            2436500.0  ...        39306820.0       556659663.0  2.156957e+07   \n",
       "4            2178618.0  ...        20327526.0       401993172.0  7.607247e+05   \n",
       "\n",
       "    Total RTT  Total Throughput  Experiance Cluster  Experiance Score  \\\n",
       "0  127.458589               1.0                   1          1.025659   \n",
       "1   46.000000              76.0                   1          0.885856   \n",
       "2   31.000000              99.0                   1          0.901403   \n",
       "3  127.458589              97.0                   1          1.024765   \n",
       "4   84.000000             248.0                   1          0.412206   \n",
       "\n",
       "   Satisfaction Score  Satisfaction Category  Cluster  \n",
       "0            0.914950  moderate satisfaction        0  \n",
       "1            0.934504  moderate satisfaction        0  \n",
       "2            1.031410  moderate satisfaction        0  \n",
       "3            0.722675       low satisfaction        0  \n",
       "4            0.462616       low satisfaction        0  \n",
       "\n",
       "[5 rows x 84 columns]"
      ]
     },
     "execution_count": 292,
     "metadata": {},
     "output_type": "execute_result"
    }
   ],
   "source": [
    "query = \"SELECT * FROM user_satisfaction LIMIT 5;\"\n",
    "query_df = pd.read_sql_query(query, engine)\n",
    "query_df"
   ]
  }
 ],
 "metadata": {
  "kernelspec": {
   "display_name": "base",
   "language": "python",
   "name": "python3"
  },
  "language_info": {
   "codemirror_mode": {
    "name": "ipython",
    "version": 3
   },
   "file_extension": ".py",
   "mimetype": "text/x-python",
   "name": "python",
   "nbconvert_exporter": "python",
   "pygments_lexer": "ipython3",
   "version": "3.10.12"
  }
 },
 "nbformat": 4,
 "nbformat_minor": 2
}
