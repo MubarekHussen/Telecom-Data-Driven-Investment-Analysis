{
 "cells": [
  {
   "cell_type": "code",
   "execution_count": 35,
   "metadata": {},
   "outputs": [],
   "source": [
    "import sys, os\n",
    "import pandas as pd\n",
    "import matplotlib.pyplot as plt\n",
    "import seaborn as sns\n",
    "\n",
    "rpath = os.path.abspath('..')\n",
    "if rpath not in sys.path:\n",
    "    sys.path.insert(0, rpath)\n",
    "\n",
    "from utils import DatabaseEngine"
   ]
  },
  {
   "cell_type": "code",
   "execution_count": 36,
   "metadata": {},
   "outputs": [
    {
     "name": "stdout",
     "output_type": "stream",
     "text": [
      "Successfully connected to the PostgreSQL \"telecom\" database\n"
     ]
    }
   ],
   "source": [
    "db_engine = DatabaseEngine()\n",
    "engine = db_engine.create()\n",
    "clean_df = pd.read_sql_table(\"clean_xdr_data\", con=engine)"
   ]
  },
  {
   "cell_type": "code",
   "execution_count": 37,
   "metadata": {},
   "outputs": [
    {
     "name": "stdout",
     "output_type": "stream",
     "text": [
      "0          3197020876596\n",
      "1            33601001722\n",
      "2            33601001754\n",
      "3            33601002511\n",
      "4            33601007832\n",
      "               ...      \n",
      "106851       33789967113\n",
      "106852       33789980299\n",
      "106853       33789996170\n",
      "106854       33789997247\n",
      "106855   882397108489451\n",
      "Name: MSISDN/Number_data, Length: 106856, dtype: float64\n"
     ]
    }
   ],
   "source": [
    "data_df = pd.read_csv('../data/user_info.csv')\n",
    "data_df.columns = ['MSISDN/Number_data' if col=='MSISDN/Number' else col for col in data_df.columns]\n",
    "print(data_df['MSISDN/Number_data'])"
   ]
  },
  {
   "cell_type": "code",
   "execution_count": 38,
   "metadata": {},
   "outputs": [],
   "source": [
    "# concatinate the two dataframes\n",
    "df = pd.concat([clean_df, data_df], axis=1)"
   ]
  },
  {
   "cell_type": "markdown",
   "metadata": {},
   "source": [
    "## User Engagement Analysis"
   ]
  },
  {
   "cell_type": "code",
   "execution_count": 42,
   "metadata": {},
   "outputs": [
    {
     "name": "stdout",
     "output_type": "stream",
     "text": [
      "2.0.3\n"
     ]
    }
   ],
   "source": [
    "print(pd.__version__)"
   ]
  },
  {
   "cell_type": "code",
   "execution_count": 47,
   "metadata": {},
   "outputs": [
    {
     "name": "stdout",
     "output_type": "stream",
     "text": [
      "Top 10 customers for Number of Sessions:\n",
      "MSISDN/Number  Number of Sessions\n",
      "33662221880.0                  18\n",
      "33627488961.0                  17\n",
      "33782153624.0                  17\n",
      "33659864193.0                  16\n",
      "33662873199.0                  15\n",
      "33646822037.0                  15\n",
      "33665620160.0                  13\n",
      "33669596538.0                  12\n",
      "33699748122.0                  12\n",
      "33658501067.0                  12\n",
      "\n",
      "\n",
      "Top 10 customers for Total Session Duration:\n",
      "MSISDN/Number  Total Session Duration\n",
      "33782153624.0                18553754\n",
      "33627488961.0                 9966898\n",
      "33646822037.0                 9279434\n",
      "33662221880.0                 8791927\n",
      "33665620160.0                 8744914\n",
      "33615304826.0                 6614270\n",
      "33619864766.0                 6288730\n",
      "33669596538.0                 6287761\n",
      "33658111684.0                 5649882\n",
      "33676748802.0                 5321667\n",
      "\n",
      "\n",
      "Top 10 customers for Total Download Data:\n",
      "MSISDN/Number  Total Download Data\n",
      "33627488961.0           8156743493\n",
      "33646822037.0           7811295382\n",
      "33782153624.0           7770043342\n",
      "33662873199.0           7309541816\n",
      "33662221880.0           7301516540\n",
      "33659864193.0           7081602462\n",
      "33641776765.0           6903439962\n",
      "33676748802.0           6610851624\n",
      "33610751088.0           6400773755\n",
      "33661197286.0           6010556021\n",
      "\n",
      "\n",
      "Top 10 customers for Total Upload Data:\n",
      "MSISDN/Number  Total Upload Data\n",
      "33782153624.0          729577380\n",
      "33646822037.0          703478581\n",
      "33627488961.0          689483001\n",
      "33662221880.0          669650721\n",
      "33659864193.0          624260321\n",
      "33662873199.0          581568792\n",
      "33665620160.0          566326364\n",
      "33661197286.0          530343105\n",
      "33676748802.0          521518890\n",
      "33768650633.0          496467102\n",
      "\n",
      "\n"
     ]
    }
   ],
   "source": [
    "# Define the engagement metrics\n",
    "engagement_metrics = ['Number of Sessions', 'Total Session Duration', 'Total Download Data', 'Total Upload Data']\n",
    "\n",
    "# For each engagement metric, print the top 10 customers\n",
    "for metric in engagement_metrics:\n",
    "    top_10_customers = df.nlargest(10, metric)[['MSISDN/Number', metric]]\n",
    "    print(f\"Top 10 customers for {metric}:\")\n",
    "    print(top_10_customers.to_string(index=False))\n",
    "    print(\"\\n\")"
   ]
  }
 ],
 "metadata": {
  "kernelspec": {
   "display_name": "base",
   "language": "python",
   "name": "python3"
  },
  "language_info": {
   "codemirror_mode": {
    "name": "ipython",
    "version": 3
   },
   "file_extension": ".py",
   "mimetype": "text/x-python",
   "name": "python",
   "nbconvert_exporter": "python",
   "pygments_lexer": "ipython3",
   "version": "3.10.12"
  }
 },
 "nbformat": 4,
 "nbformat_minor": 2
}
